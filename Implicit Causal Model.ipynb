{
 "cells": [
  {
   "cell_type": "code",
   "execution_count": 47,
   "metadata": {},
   "outputs": [],
   "source": [
    "import edward as ed\n",
    "import tensorflow as tf\n",
    "from edward.models import Multinomial,Bernoulli,Binomial, Normal\n",
    "from pandas_plink import read_plink\n",
    "import numpy as np\n",
    "import pandas as pd\n",
    "from collections import OrderedDict as odict"
   ]
  },
  {
   "cell_type": "code",
   "execution_count": 48,
   "metadata": {
    "collapsed": true
   },
   "outputs": [],
   "source": [
    "N = 5000\n",
    "M = 100000\n",
    "K = 25\n"
   ]
  },
  {
   "cell_type": "code",
   "execution_count": 49,
   "metadata": {
    "collapsed": true
   },
   "outputs": [],
   "source": [
    "def snp_neural_network(z,w):\n",
    "    z_tile = tf.tile(tf.reshape(z, [N, 1, K]), [1, M, 1])\n",
    "    w_tile = tf.tile(tf.reshape(w, [1, M, K]), [N, 1, 1])\n",
    "    h = tf.concat([z_tile, w_tile], 2)\n",
    "    h = tf.layers.dense(h, 512, activation=tf.nn.relu)\n",
    "    h = tf.layers.dense(h, 512, activation=tf.nn.relu)\n",
    "    h = tf.layers.dense(h, 1, activation=None)\n",
    "    return tf.reshape(h, [N, M])"
   ]
  },
  {
   "cell_type": "code",
   "execution_count": 50,
   "metadata": {
    "collapsed": true
   },
   "outputs": [],
   "source": [
    "def trait_neural_network(z, x):\n",
    "    eps = Normal(loc=0.0, scale=1.0, sample_shape=[N, 1])\n",
    "    h = tf.concat([z, x, eps], 1)\n",
    "    h = tf.layers.dense(h, 32, activation=tf.nn.relu)\n",
    "    h = tf.layers.dense(h, 256, activation=tf.nn.relu)\n",
    "    h = tf.concat([z, h], 1) # include connection to z for output layer\n",
    "    h = tf.layers.dense(h, 1, activation=None)\n",
    "    return tf.reshape(h, [N])"
   ]
  },
  {
   "cell_type": "code",
   "execution_count": 51,
   "metadata": {},
   "outputs": [],
   "source": [
    "z = Normal(loc=0.0, scale=1.0, sample_shape=[N, K])\n",
    "w = Normal(loc=0.0, scale=1.0, sample_shape=[M, K])\n",
    "logits = snp_neural_network(z, w)\n",
    "x = Multinomial(total_count=2.0, logits=logits)\n",
    "y = Bernoulli(logits=trait_neural_network(z, x))"
   ]
  },
  {
   "cell_type": "code",
   "execution_count": 52,
   "metadata": {},
   "outputs": [
    {
     "data": {
      "text/plain": [
       "TensorShape([Dimension(5000), Dimension(25)])"
      ]
     },
     "execution_count": 52,
     "metadata": {},
     "output_type": "execute_result"
    }
   ],
   "source": [
    "z.shape"
   ]
  },
  {
   "cell_type": "code",
   "execution_count": 53,
   "metadata": {},
   "outputs": [
    {
     "data": {
      "text/plain": [
       "TensorShape([Dimension(100000), Dimension(25)])"
      ]
     },
     "execution_count": 53,
     "metadata": {},
     "output_type": "execute_result"
    }
   ],
   "source": [
    "w.shape"
   ]
  },
  {
   "cell_type": "code",
   "execution_count": 54,
   "metadata": {},
   "outputs": [
    {
     "data": {
      "text/plain": [
       "TensorShape([Dimension(5000), Dimension(100000)])"
      ]
     },
     "execution_count": 54,
     "metadata": {},
     "output_type": "execute_result"
    }
   ],
   "source": [
    "x.shape"
   ]
  },
  {
   "cell_type": "code",
   "execution_count": 55,
   "metadata": {},
   "outputs": [
    {
     "data": {
      "text/plain": [
       "TensorShape([Dimension(5000)])"
      ]
     },
     "execution_count": 55,
     "metadata": {},
     "output_type": "execute_result"
    }
   ],
   "source": [
    "y.shape\n"
   ]
  },
  {
   "cell_type": "code",
   "execution_count": 15,
   "metadata": {
    "collapsed": true
   },
   "outputs": [],
   "source": [
    "f_name = '/Users/raouldias/Desktop/Extend/extend_csp_data_annon'\n",
    "pheno_name = '/Users/raouldias/Desktop/Extend/extend_phenotype.txt'"
   ]
  },
  {
   "cell_type": "code",
   "execution_count": 16,
   "metadata": {},
   "outputs": [
    {
     "name": "stderr",
     "output_type": "stream",
     "text": [
      "Mapping files: 100%|██████████| 3/3 [00:01<00:00,  1.57it/s]\n"
     ]
    }
   ],
   "source": [
    "(bim,fam,bed) = read_plink(f_name)"
   ]
  },
  {
   "cell_type": "code",
   "execution_count": 17,
   "metadata": {
    "collapsed": true
   },
   "outputs": [],
   "source": [
    "bed = bed.rechunk((100,7367))"
   ]
  },
  {
   "cell_type": "code",
   "execution_count": 18,
   "metadata": {
    "collapsed": true
   },
   "outputs": [],
   "source": [
    "def read_pheno(f_name):\n",
    "    header = odict(\n",
    "        [\n",
    "            (\"FID\", str),\n",
    "            (\"IID\", str),\n",
    "            (\"AGE\", str),\n",
    "            (\"BMI\", str),\n",
    "            (\"T2D\", str),\n",
    "        ]\n",
    "    )\n",
    "\n",
    "    df = _read_csv(f_name, header)\n",
    "    df[\"i\"] = range(df.shape[0])\n",
    "    return df\n",
    "    \n",
    "def _read_csv(fn, header):\n",
    "    return pd.read_csv(\n",
    "        fn,\n",
    "        delim_whitespace=True,\n",
    "        header=None,\n",
    "        names=header.keys(),\n",
    "        dtype=header,\n",
    "        compression=None,\n",
    "        engine=\"c\",\n",
    "    )"
   ]
  },
  {
   "cell_type": "code",
   "execution_count": 19,
   "metadata": {
    "collapsed": true
   },
   "outputs": [],
   "source": [
    "pheno_df = read_pheno(pheno_name)"
   ]
  },
  {
   "cell_type": "code",
   "execution_count": null,
   "metadata": {
    "collapsed": true
   },
   "outputs": [],
   "source": []
  }
 ],
 "metadata": {
  "kernelspec": {
   "display_name": "Python 3",
   "language": "python",
   "name": "python3"
  },
  "language_info": {
   "codemirror_mode": {
    "name": "ipython",
    "version": 3
   },
   "file_extension": ".py",
   "mimetype": "text/x-python",
   "name": "python",
   "nbconvert_exporter": "python",
   "pygments_lexer": "ipython3",
   "version": "3.6.1"
  }
 },
 "nbformat": 4,
 "nbformat_minor": 2
}
